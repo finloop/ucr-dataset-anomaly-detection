{
 "cells": [
  {
   "cell_type": "markdown",
   "id": "7a974c5b-6a82-494c-82d3-5197824e0410",
   "metadata": {},
   "source": [
    "# Imports"
   ]
  },
  {
   "cell_type": "code",
   "execution_count": 2,
   "id": "077dfcdc-0a91-4d0d-b375-c785ba36815a",
   "metadata": {},
   "outputs": [],
   "source": [
    "import numpy as np\n",
    "import matplotlib.pylab as plt\n",
    "import seaborn as sns\n",
    "import pandas as pd\n",
    "import os\n",
    "from os import listdir\n",
    "from os.path import isfile, join\n",
    "\n",
    "import sys\n",
    "module_path = os.path.abspath(os.path.join('..'))\n",
    "if module_path not in sys.path:\n",
    "    sys.path.append(module_path)"
   ]
  },
  {
   "cell_type": "code",
   "execution_count": null,
   "id": "90a1cf2d-f7d6-49a0-b1a0-4c5e019622bd",
   "metadata": {},
   "outputs": [],
   "source": []
  },
  {
   "cell_type": "markdown",
   "id": "931eb9a0-c800-45fc-a5f5-3baad85e7bae",
   "metadata": {},
   "source": [
    "# Load datasets"
   ]
  },
  {
   "cell_type": "code",
   "execution_count": 3,
   "id": "8d3019b1-45ce-403f-be33-97e92440be3b",
   "metadata": {},
   "outputs": [],
   "source": [
    "datasets = list()\n",
    "DATA_DIR = \"../datasets/data\"\n",
    "TABULAR_SEP_FIX =  [\"204\", \"205\", \"206\", \"207\", \"208\", \"225\", \"226\", \"242\", \"243\"]\n",
    "\n",
    "for dataset_filename in listdir(DATA_DIR):\n",
    "    # 012_UCR_Anomaly_tiltAPB1_100000_114283_114350.txt\n",
    "    # [0] [1] [2]     [3]      [4]    [5]    [6]   .txt\n",
    "    split = dataset_filename.replace(\".txt\", \"\").split(\"_\")\n",
    "    \n",
    "    dataset = {\n",
    "        \"number\": split[0],\n",
    "        \"name\": split[3],\n",
    "        \"train_end_idx\": int(split[4]),\n",
    "        \"anomaly_start_idx\": int(split[5]) - int(split[4]),\n",
    "        \"anomaly_end_idx\": int(split[6]) - int(split[4]),\n",
    "        \"path\": join(DATA_DIR, dataset_filename),\n",
    "        \"separator\": \"\\n\" if split[0] not in TABULAR_SEP_FIX else \"  \"\n",
    "    }\n",
    "    \n",
    "    datasets.append(dataset)"
   ]
  },
  {
   "cell_type": "code",
   "execution_count": 4,
   "id": "5dbe3d20-2e37-4886-955f-164dac81424b",
   "metadata": {},
   "outputs": [],
   "source": [
    "def load_dataset(dataset):\n",
    "    with open(dataset[\"path\"]) as file:\n",
    "        data_ = [float(x) for x in filter(None, file.read().split(dataset[\"separator\"]))]\n",
    "    return data_"
   ]
  },
  {
   "cell_type": "code",
   "execution_count": 5,
   "id": "9627eb3a-5dfc-4c69-85a5-dc5c7d449014",
   "metadata": {},
   "outputs": [],
   "source": [
    "for i in range(len(datasets)):\n",
    "    data = load_dataset(datasets[i])\n",
    "    datasets[i][\"train\"] = pd.Series(data[:datasets[i][\"train_end_idx\"]])\n",
    "    datasets[i][\"test\"] = pd.Series(data[datasets[i][\"train_end_idx\"]:])"
   ]
  },
  {
   "cell_type": "markdown",
   "id": "2f347224-7ba7-4bab-9325-96bfeab3f8ac",
   "metadata": {},
   "source": [
    "# Helper functions"
   ]
  },
  {
   "cell_type": "code",
   "execution_count": 6,
   "id": "2f8380c1-fc18-4e33-ae4f-3914fda2ca04",
   "metadata": {},
   "outputs": [],
   "source": [
    "def plot_dataset(dataset, figsize=(20,6)):\n",
    "    d = dataset\n",
    "    fig, axs = plt.subplots(1, 2, figsize=figsize)\n",
    "    \n",
    "    fig.suptitle(\"Number: {} \\n Name: {}\".format(d[\"number\"], d[\"name\"]))\n",
    "    \n",
    "    # Plot test + train\n",
    "    offset1 = np.array(range(len(d[\"test\"]))) + len(d[\"train\"])\n",
    "    offset2 = np.array(range(d[\"anomaly_end_idx\"] - d[\"anomaly_start_idx\"])) + len(d[\"train\"]) + d[\"anomaly_start_idx\"]\n",
    "    \n",
    "    axs[0].plot(d[\"train\"], color=\"palegreen\")\n",
    "    axs[0].plot(offset1, d[\"test\"], color=\"skyblue\")\n",
    "    axs[0].plot(offset2, d[\"test\"][d[\"anomaly_start_idx\"]:d[\"anomaly_end_idx\"]], color=\"red\")\n",
    "    \n",
    "    axs[0].legend([\"Train\", \"Test\", \"Anomaly\"])\n",
    "    \n",
    "    # Show anonmaly\n",
    "    \n",
    "    \n",
    "    offset3 = np.array(range(len(d[\"test\"])+1000))\n",
    "    \n",
    "    axs[1].plot(d[\"test\"][(d[\"anomaly_start_idx\"]-1000):(d[\"anomaly_end_idx\"]+1000)], color=\"lightblue\")\n",
    "    axs[1].plot(d[\"test\"][(d[\"anomaly_start_idx\"]):(d[\"anomaly_end_idx\"])], color=\"red\")\n",
    "    "
   ]
  },
  {
   "cell_type": "code",
   "execution_count": 7,
   "id": "7937288b-17bc-4bc2-8c8f-d58c7f5bf536",
   "metadata": {},
   "outputs": [],
   "source": [
    "def threshold(data):\n",
    "    radius = np.nanmax(data) - np.nanmin(data)\n",
    "    threshold = np.nanmin(data) + 0.7 * radius\n",
    "    return threshold"
   ]
  },
  {
   "cell_type": "code",
   "execution_count": 8,
   "id": "61a9ff93-9803-4a32-af01-744f512be36e",
   "metadata": {},
   "outputs": [],
   "source": [
    "def plot_dataset_with_pred(dataset,y=None, figsize=(20,10)):\n",
    "    d = dataset\n",
    "    fig = plt.figure(figsize=figsize)\n",
    "    \n",
    "    gs = fig.add_gridspec(2, 2)\n",
    "    ax1 = fig.add_subplot(gs[0, 0])\n",
    "    ax2 = fig.add_subplot(gs[0, 1])\n",
    "    ax3 = fig.add_subplot(gs[1, :])\n",
    "    \n",
    "    fig.suptitle(\"Number: {} \\n Name: {}\".format(d[\"number\"], d[\"name\"]))\n",
    "    \n",
    "    #fig2, axs2 = axs.subplots(2,1)\n",
    "    # Plot test + train\n",
    "    offset1 = np.array(range(len(d[\"test\"]))) + len(d[\"train\"])\n",
    "    offset2 = np.array(range(d[\"anomaly_end_idx\"] - d[\"anomaly_start_idx\"])) + len(d[\"train\"]) + d[\"anomaly_start_idx\"]\n",
    "    \n",
    "    ax1.plot(d[\"train\"], color=\"palegreen\")\n",
    "    ax1.plot(offset1, d[\"test\"], color=\"skyblue\")\n",
    "    ax1.plot(offset2, d[\"test\"][d[\"anomaly_start_idx\"]:d[\"anomaly_end_idx\"]], color=\"red\")\n",
    "    \n",
    "    ax1.legend([\"Train\", \"Test\", \"Anomaly\"])\n",
    "    \n",
    "    # Show anonmaly\n",
    "    offset3 = np.array(range(len(d[\"test\"])+1000))\n",
    "    \n",
    "    ax2.plot(d[\"test\"][(d[\"anomaly_start_idx\"]-1000):(d[\"anomaly_end_idx\"]+1000)], color=\"lightblue\")\n",
    "    ax2.plot(d[\"test\"][(d[\"anomaly_start_idx\"]):(d[\"anomaly_end_idx\"])], color=\"red\")\n",
    "    ax2.set_title(\"Anomaly\")\n",
    "    ax2.legend([\"Test\", \"Anomaly\"])\n",
    "    \n",
    "    # Plot prediction score\n",
    "    ax3.set_title(\"Reconstruction error on test data\")\n",
    "    ax3.plot(d[\"test\"], color=\"skyblue\")\n",
    "    offset4 = np.array(range(d[\"anomaly_end_idx\"]-(d[\"anomaly_start_idx\"]))) + d[\"anomaly_start_idx\"]\n",
    "    ax3.plot(offset4,d[\"test\"][(d[\"anomaly_start_idx\"]):(d[\"anomaly_end_idx\"])], color=\"red\")\n",
    "    ax3.legend([\"test\", \"anomaly\"])\n",
    "    if y is not None:\n",
    "        ax4 = ax3.twinx()\n",
    "        ax4.plot(y, color=\"orange\", alpha=0.7)\n",
    "        ax4.legend([\"recostruction error\"], loc=2)\n",
    "        \n",
    "        th = threshold(y)\n",
    "        ax4.plot([th] * len(y))"
   ]
  },
  {
   "cell_type": "code",
   "execution_count": null,
   "id": "1e836097-23d0-4913-9378-b11d16a5c07f",
   "metadata": {},
   "outputs": [],
   "source": []
  }
 ],
 "metadata": {
  "kernelspec": {
   "display_name": "Python 3 (ipykernel)",
   "language": "python",
   "name": "python3"
  },
  "language_info": {
   "codemirror_mode": {
    "name": "ipython",
    "version": 3
   },
   "file_extension": ".py",
   "mimetype": "text/x-python",
   "name": "python",
   "nbconvert_exporter": "python",
   "pygments_lexer": "ipython3",
   "version": "3.8.12"
  }
 },
 "nbformat": 4,
 "nbformat_minor": 5
}
